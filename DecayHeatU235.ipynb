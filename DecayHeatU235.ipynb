{
  "nbformat": 4,
  "nbformat_minor": 0,
  "metadata": {
    "colab": {
      "name": "DecayHeatU235.ipynb",
      "provenance": [],
      "collapsed_sections": [],
      "authorship_tag": "ABX9TyN+0fIzaSqRgYl2kejRW6IR",
      "include_colab_link": true
    },
    "kernelspec": {
      "name": "python3",
      "display_name": "Python 3"
    },
    "language_info": {
      "name": "python"
    }
  },
  "cells": [
    {
      "cell_type": "markdown",
      "metadata": {
        "id": "view-in-github",
        "colab_type": "text"
      },
      "source": [
        "<a href=\"https://colab.research.google.com/github/hyd3nekosuki/DecayHeatU235/blob/main/DecayHeatU235.ipynb\" target=\"_parent\"><img src=\"https://colab.research.google.com/assets/colab-badge.svg\" alt=\"Open In Colab\"/></a>"
      ]
    },
    {
      "cell_type": "code",
      "metadata": {
        "id": "UJ-mm1ShSdw3"
      },
      "source": [
        "import numpy as np\n",
        "import matplotlib.pyplot as plt\n",
        "from numba import njit\n",
        "\n",
        "@njit(\"f8,f8\")\n",
        "def UncorrectedDecayHeatU235(t,T):\n",
        "    \"\"\"\n",
        "    Funtion: UncorrectedDecayHeatU235(t,T)\n",
        "    input variables:\n",
        "        t : Time after shutdown, i.e., cooling time (s)\n",
        "        T : Total operating period (s)\n",
        "    output value:\n",
        "        F : Uncorrected decay heat power for thermal fission of U235 (MeV/fission) without neutron capture effect\n",
        "    \"\"\"\n",
        "\n",
        "    # Quated from Ref. [1]\n",
        "    lambd = np.array([3.290E+00, 1.001E+00, 5.157E-01, 2.951E-01, 1.959E-01, 1.037E-01, 3.488E-02, 1.330E-02, 5.004E-03, 3.591E-03, 1.357E-03, 5.645E-04, 1.850E-04, 5.435E-05, 4.918E-05, 1.922E-05, 8.422E-06, 2.443E-06, 6.925E-07, 6.202E-07, 1.503E-07, 1.277E-07, 1.262E-07, 2.714E-08, 2.251E-08, 8.985E-09, 4.366E-09, 7.707E-10, 7.280E-10, 2.430E-10, 2.198E-13, 1.026E-13, 9.550E-15])\n",
        "    #alpha_b = np.array([1.150E-01, 2.508E-01, 4.057E-02, 1.611E-01, 6.855E-02, 9.400E-02, 2.527E-02, 1.054E-02, 1.548E-03, 6.661E-04, 5.515E-04, 3.301E-04, 5.432E-05, -1.095E-06, 1.712E-05, 3.978E-06, 8.348E-07, 1.622E-07, 2.042E-08, 4.074E-08, 2.611E-08, -1.816E-07, 1.686E-07, 2.183E-09, -9.660E-11, 9.695E-12, 3.932E-12, 5.085E-11, 1.041E-11, 2.003E-14, 1.077E-16, 5.286E-16, 7.527E-17])\n",
        "    #alpha_g = np.array([8.444E-02, 2.155E-01, 1.714E-02, 1.853E-01, -1.216E-02, 7.517E-02, 1.917E-02, 1.229E-02, 2.407E-03, 3.944E-04, 6.150E-04, 3.098E-04, 1.397E-04, 3.115E-05, -1.563E-05, 4.368E-06, 8.133E-07, 3.057E-07, 7.855E-08, 4.294E-08, -3.612E-08, 2.691E-07, -2.200E-07, 1.546E-10, -4.788E-11, 4.467E-12, -3.961E-13, 1.105E-13, 2.544E-11, 1.667E-17, 2.813E-16, -1.609E-19, 7.903E-20])\n",
        "    #alpha = alpha_b + alpha_g\n",
        "    alpha = np.array([1.994E-01, 4.664E-01, 5.771E-02, 3.465E-01, 5.639E-02, 1.692E-01, 4.445E-02, 2.283E-02, 3.954E-03, 1.061E-03, 1.166E-03, 6.399E-04, 1.940E-04, 3.005E-05, 1.487E-06, 8.346E-06, 1.648E-06, 4.679E-07, 9.897E-08, 8.368E-08, -1.001E-08, 8.752E-08, -5.134E-08, 2.337E-09, -1.445E-10, 1.416E-11, 3.536E-12, 5.096E-11, 3.586E-11, 2.005E-14, 3.889E-16, 5.285E-16, 7.535E-17])\n",
        "\n",
        "    ## Quated from Ref. [2]\n",
        "    #alpha = np.array([5.2800E-04, 6.8588E-01, 4.0752E-01, 2.1937E-01, 5.7701E-02, 2.2530E-02, 3.3392E-03, 9.3667E-04, 8.0899E-04, 1.9572E-04, 3.2609E-05, 7.5827E-06, 2.5189E-06, 4.9836E-07, 1.8523E-07, 2.6592E-08, 2.2356E-09, 8.9582E-12, 8.5968E-11, 2.1072E-14, 7.1219E-16, 8.1126E-17, 9.4678E-17])\n",
        "    #lambd = np.array([2.7216E+00, 1.0256E+00, 3.1419E-01, 1.1788E-01, 3.4365E-02, 1.1762E-02, 3.6065E-03, 1.3963E-03, 6.2608E-04, 1.8924E-04, 5.5074E-05, 2.0971E-05, 9.9940E-06, 2.5401E-06, 6.6332E-07, 1.2281E-07, 2.7163E-08, 3.2955E-09, 7.4225E-10, 2.4681E-10, 1.5596E-13, 2.2573E-14, 2.0503E-14])\n",
        "\n",
        "    #F = (alpha/lambd * np.exp(-lambd*t) * (1.0 - np.exp(-lambd*T)))\n",
        "    F = (alpha/lambd * np.exp(-lambd*t) * (-np.expm1(-lambd*T)))\n",
        "    return F.sum()"
      ],
      "execution_count": 1,
      "outputs": []
    },
    {
      "cell_type": "markdown",
      "source": [
        "# Reference\n",
        "[1] K. Tasaka et al., \"Recommended values of decay heat power and method to utilize the data,\" JAERI-M 91-034, JAEA (1991), DOI:[10.11484/jaeri-m-91-034](https://doi.org/10.11484/jaeri-m-91-034)\n",
        "\n",
        "[2] American national standard for decay heat power in light water reactors, ANSI/ANS-5.1-1994 (1994)."
      ],
      "metadata": {
        "id": "soMrif3cICdR"
      }
    },
    {
      "cell_type": "code",
      "source": [
        "# Calculation example for Appendix A, Table A.2 in Ref. [1]\n",
        "\n",
        "Qeff = 202.2 # (MeV/fission)\n",
        "\n",
        "Pbatch = np.array([100*0.8, 0.0, 100*0.6, 0.0, 100*0.4])           # Power for each batch (W/cc)\n",
        "Tbatch = np.array([300,      60,     300,  60,     300])*24*60*60  # Operating period for each batch (s)\n",
        "N = len(Pbatch)\n",
        "\n",
        "tbatch = np.zeros(N)\n",
        "tlast = 1.0e9 # (s) \n",
        "for i in range(N):\n",
        "    tbatch[i] = Tbatch[(i+1):].sum() + tlast\n",
        "#print(tbatch)\n",
        "\n",
        "Dbatch = np.zeros(N)\n",
        "for i in range(N):\n",
        "    F = UncorrectedDecayHeatU235(tbatch[i], Tbatch[i])\n",
        "    Dbatch[i] = F*Pbatch[i]/Qeff\n",
        "\n",
        "#print(Dbatch)\n",
        "print(\"Decay heat power = {0:.3e} (W/cc)\".format(Dbatch.sum())) # The unit of decay heat is the same as that of Pbatch"
      ],
      "metadata": {
        "colab": {
          "base_uri": "https://localhost:8080/"
        },
        "id": "5u3kWmfnS-Se",
        "outputId": "15d70e62-b073-4f7a-a100-dcf8eea90732"
      },
      "execution_count": 2,
      "outputs": [
        {
          "output_type": "stream",
          "name": "stdout",
          "text": [
            "Decay heat power = 9.095e-04 (W/cc)\n"
          ]
        }
      ]
    },
    {
      "cell_type": "code",
      "source": [
        "# Calculation test\n",
        "\n",
        "Qeff = 202.2 # (MeV/fission)\n",
        "\n",
        "Pbatch = np.array([3200]) *19442/1659               # Power for each batch (MW)\n",
        "Tbatch = np.array([20*114.7/(3200/1659)])*24*60*60  # Operating period for each batch (s)\n",
        "N = len(Pbatch)\n",
        "\n",
        "tbatch = np.zeros(N)\n",
        "tlast = 7755 *24*60*60  # (s)\n",
        "for i in range(N):\n",
        "    tbatch[i] = Tbatch[(i+1):].sum() + tlast\n",
        "#print(tbatch)\n",
        "\n",
        "Dbatch = np.zeros(N)\n",
        "for i in range(N):\n",
        "    F = UncorrectedDecayHeatU235(tbatch[i], Tbatch[i])\n",
        "    Dbatch[i] = F*Pbatch[i]/Qeff\n",
        "\n",
        "#print(Dbatch)\n",
        "print(\"Decay heat power = {0:.1e} (MW)\".format(Dbatch.sum())) # The unit of decay heat is the same as that of Pbatch"
      ],
      "metadata": {
        "id": "5vOuMrND-2SE",
        "colab": {
          "base_uri": "https://localhost:8080/"
        },
        "outputId": "91a24673-50ff-4c09-f26c-e8f04a1f1d46"
      },
      "execution_count": 3,
      "outputs": [
        {
          "output_type": "stream",
          "name": "stdout",
          "text": [
            "Decay heat power = 9.7e-01 (MW)\n"
          ]
        }
      ]
    }
  ]
}